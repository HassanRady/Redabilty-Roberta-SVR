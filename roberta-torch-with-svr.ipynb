{
 "cells": [
  {
   "cell_type": "code",
   "execution_count": 1,
   "id": "80486b48",
   "metadata": {
    "execution": {
     "iopub.execute_input": "2021-07-30T08:14:52.012048Z",
     "iopub.status.busy": "2021-07-30T08:14:52.010178Z",
     "iopub.status.idle": "2021-07-30T08:14:52.013416Z",
     "shell.execute_reply": "2021-07-30T08:14:52.014767Z",
     "shell.execute_reply.started": "2021-07-30T08:06:48.339922Z"
    },
    "id": "NJ6MhJYYBCwu",
    "outputId": "30c93ea3-d1f0-4430-911d-d6ade238de74",
    "papermill": {
     "duration": 0.039729,
     "end_time": "2021-07-30T08:14:52.015124",
     "exception": false,
     "start_time": "2021-07-30T08:14:51.975395",
     "status": "completed"
    },
    "tags": []
   },
   "outputs": [],
   "source": [
    "# !nvidia-smi"
   ]
  },
  {
   "cell_type": "code",
   "execution_count": 2,
   "id": "59de078f",
   "metadata": {
    "execution": {
     "iopub.execute_input": "2021-07-30T08:14:52.175514Z",
     "iopub.status.busy": "2021-07-30T08:14:52.174692Z",
     "iopub.status.idle": "2021-07-30T08:15:01.812908Z",
     "shell.execute_reply": "2021-07-30T08:15:01.812026Z",
     "shell.execute_reply.started": "2021-07-30T08:06:48.355109Z"
    },
    "id": "w68CZpOwFoly",
    "outputId": "95056d87-b35c-4bef-f424-85b63a47017e",
    "papermill": {
     "duration": 9.771679,
     "end_time": "2021-07-30T08:15:01.813053",
     "exception": false,
     "start_time": "2021-07-30T08:14:52.041374",
     "status": "completed"
    },
    "tags": []
   },
   "outputs": [
    {
     "data": {
      "text/plain": [
       "device(type='cuda', index=0)"
      ]
     },
     "execution_count": 2,
     "metadata": {},
     "output_type": "execute_result"
    }
   ],
   "source": [
    "import transformers\n",
    "from transformers import RobertaModel, RobertaTokenizer, AdamW, get_linear_schedule_with_warmup\n",
    "import torch\n",
    "\n",
    "import numpy as np\n",
    "import pandas as pd\n",
    "import seaborn as sns\n",
    "from pylab import rcParams\n",
    "import matplotlib.pyplot as plt\n",
    "from matplotlib import rc\n",
    "from sklearn.model_selection import train_test_split\n",
    "from sklearn.metrics import confusion_matrix, classification_report\n",
    "from collections import defaultdict\n",
    "from textwrap import wrap\n",
    "import random\n",
    "import os\n",
    "import math\n",
    "import re\n",
    "import string\n",
    "from torch import nn, optim\n",
    "from torch.utils.data import Dataset, DataLoader\n",
    "import torch.nn.functional as F\n",
    "\n",
    "from sklearn.svm import SVR\n",
    "from sklearn.metrics import mean_squared_error\n",
    "from sklearn.model_selection import KFold,StratifiedKFold\n",
    "\n",
    "import gc\n",
    "\n",
    "sns.set(style='whitegrid', palette='muted', font_scale=1.2)\n",
    "\n",
    "HAPPY_COLORS_PALETTE = [\"#01BEFE\", \"#FFDD00\", \"#FF7D00\", \"#FF006D\", \"#ADFF02\", \"#8F00FF\"]\n",
    "\n",
    "sns.set_palette(sns.color_palette(HAPPY_COLORS_PALETTE))\n",
    "\n",
    "rcParams['figure.figsize'] = 12, 8\n",
    "\n",
    "RANDOM_SEED = 42\n",
    "np.random.seed(RANDOM_SEED)\n",
    "torch.manual_seed(RANDOM_SEED)\n",
    "\n",
    "\n",
    "\n",
    "def seed_everything(seed=42):\n",
    "    random.seed(seed)\n",
    "    os.environ['PYTHONASSEED'] = str(seed)\n",
    "    np.random.seed(seed)\n",
    "    torch.manual_seed(seed)\n",
    "    torch.cuda.manual_seed(seed)\n",
    "    torch.backends.cudnn.deterministic = True\n",
    "    torch.backends.cudnn.benchmark = True\n",
    "seed_everything()\n",
    "\n",
    "device = torch.device(\"cuda:0\" if torch.cuda.is_available() else \"cpu\")\n",
    "device"
   ]
  },
  {
   "cell_type": "code",
   "execution_count": 3,
   "id": "95450976",
   "metadata": {
    "execution": {
     "iopub.execute_input": "2021-07-30T08:15:01.907257Z",
     "iopub.status.busy": "2021-07-30T08:15:01.905118Z",
     "iopub.status.idle": "2021-07-30T08:15:01.910068Z",
     "shell.execute_reply": "2021-07-30T08:15:01.910965Z",
     "shell.execute_reply.started": "2021-07-30T08:06:57.824272Z"
    },
    "id": "UULnzH2KhtA7",
    "papermill": {
     "duration": 0.067823,
     "end_time": "2021-07-30T08:15:01.911522",
     "exception": false,
     "start_time": "2021-07-30T08:15:01.843699",
     "status": "completed"
    },
    "tags": []
   },
   "outputs": [],
   "source": [
    "TRAIN_PATH = '../input/commonlitreadabilityprize/train.csv'\n",
    "TEST_PATH = \"../input/commonlitreadabilityprize/test.csv\"\n",
    "TARGET = \"target\"\n",
    "PRE_TRAINED_MODEL_NAME = '../input/roberta-base'"
   ]
  },
  {
   "cell_type": "code",
   "execution_count": 4,
   "id": "c8c7381b",
   "metadata": {
    "execution": {
     "iopub.execute_input": "2021-07-30T08:15:02.025293Z",
     "iopub.status.busy": "2021-07-30T08:15:02.024143Z",
     "iopub.status.idle": "2021-07-30T08:15:02.230185Z",
     "shell.execute_reply": "2021-07-30T08:15:02.233232Z",
     "shell.execute_reply.started": "2021-07-30T08:06:57.833741Z"
    },
    "id": "mUKLyKc7I6Qp",
    "outputId": "a434714e-12ff-46ac-af05-f4bafefca467",
    "papermill": {
     "duration": 0.269714,
     "end_time": "2021-07-30T08:15:02.233730",
     "exception": false,
     "start_time": "2021-07-30T08:15:01.964016",
     "status": "completed"
    },
    "tags": []
   },
   "outputs": [
    {
     "data": {
      "text/html": [
       "<div>\n",
       "<style scoped>\n",
       "    .dataframe tbody tr th:only-of-type {\n",
       "        vertical-align: middle;\n",
       "    }\n",
       "\n",
       "    .dataframe tbody tr th {\n",
       "        vertical-align: top;\n",
       "    }\n",
       "\n",
       "    .dataframe thead th {\n",
       "        text-align: right;\n",
       "    }\n",
       "</style>\n",
       "<table border=\"1\" class=\"dataframe\">\n",
       "  <thead>\n",
       "    <tr style=\"text-align: right;\">\n",
       "      <th></th>\n",
       "      <th>id</th>\n",
       "      <th>url_legal</th>\n",
       "      <th>license</th>\n",
       "      <th>text</th>\n",
       "      <th>target</th>\n",
       "      <th>standard_error</th>\n",
       "    </tr>\n",
       "  </thead>\n",
       "  <tbody>\n",
       "    <tr>\n",
       "      <th>0</th>\n",
       "      <td>c12129c31</td>\n",
       "      <td>NaN</td>\n",
       "      <td>NaN</td>\n",
       "      <td>When the young people returned to the ballroom...</td>\n",
       "      <td>-0.340259</td>\n",
       "      <td>0.464009</td>\n",
       "    </tr>\n",
       "    <tr>\n",
       "      <th>1</th>\n",
       "      <td>85aa80a4c</td>\n",
       "      <td>NaN</td>\n",
       "      <td>NaN</td>\n",
       "      <td>All through dinner time, Mrs. Fayre was somewh...</td>\n",
       "      <td>-0.315372</td>\n",
       "      <td>0.480805</td>\n",
       "    </tr>\n",
       "    <tr>\n",
       "      <th>2</th>\n",
       "      <td>b69ac6792</td>\n",
       "      <td>NaN</td>\n",
       "      <td>NaN</td>\n",
       "      <td>As Roger had predicted, the snow departed as q...</td>\n",
       "      <td>-0.580118</td>\n",
       "      <td>0.476676</td>\n",
       "    </tr>\n",
       "    <tr>\n",
       "      <th>3</th>\n",
       "      <td>dd1000b26</td>\n",
       "      <td>NaN</td>\n",
       "      <td>NaN</td>\n",
       "      <td>And outside before the palace a great garden w...</td>\n",
       "      <td>-1.054013</td>\n",
       "      <td>0.450007</td>\n",
       "    </tr>\n",
       "    <tr>\n",
       "      <th>4</th>\n",
       "      <td>37c1b32fb</td>\n",
       "      <td>NaN</td>\n",
       "      <td>NaN</td>\n",
       "      <td>Once upon a time there were Three Bears who li...</td>\n",
       "      <td>0.247197</td>\n",
       "      <td>0.510845</td>\n",
       "    </tr>\n",
       "  </tbody>\n",
       "</table>\n",
       "</div>"
      ],
      "text/plain": [
       "          id url_legal license  \\\n",
       "0  c12129c31       NaN     NaN   \n",
       "1  85aa80a4c       NaN     NaN   \n",
       "2  b69ac6792       NaN     NaN   \n",
       "3  dd1000b26       NaN     NaN   \n",
       "4  37c1b32fb       NaN     NaN   \n",
       "\n",
       "                                                text    target  standard_error  \n",
       "0  When the young people returned to the ballroom... -0.340259        0.464009  \n",
       "1  All through dinner time, Mrs. Fayre was somewh... -0.315372        0.480805  \n",
       "2  As Roger had predicted, the snow departed as q... -0.580118        0.476676  \n",
       "3  And outside before the palace a great garden w... -1.054013        0.450007  \n",
       "4  Once upon a time there were Three Bears who li...  0.247197        0.510845  "
      ]
     },
     "execution_count": 4,
     "metadata": {},
     "output_type": "execute_result"
    }
   ],
   "source": [
    "df = pd.read_csv(TRAIN_PATH)\n",
    "df_test = pd.read_csv(TEST_PATH)\n",
    "df_original = df.copy()\n",
    "df = df.rename({'excerpt': 'text'}, axis=1)\n",
    "df_test = df_test.rename({'excerpt': 'text'}, axis=1)\n",
    "df_test[TARGET] = 0\n",
    "\n",
    "df.head()"
   ]
  },
  {
   "cell_type": "code",
   "execution_count": 5,
   "id": "8c5c5b85",
   "metadata": {
    "execution": {
     "iopub.execute_input": "2021-07-30T08:15:02.354483Z",
     "iopub.status.busy": "2021-07-30T08:15:02.352215Z",
     "iopub.status.idle": "2021-07-30T08:15:02.357987Z",
     "shell.execute_reply": "2021-07-30T08:15:02.356417Z",
     "shell.execute_reply.started": "2021-07-30T08:06:58.020254Z"
    },
    "papermill": {
     "duration": 0.072218,
     "end_time": "2021-07-30T08:15:02.358389",
     "exception": false,
     "start_time": "2021-07-30T08:15:02.286171",
     "status": "completed"
    },
    "tags": []
   },
   "outputs": [],
   "source": [
    "# df2 = pd.read_csv(\"../input/common-translated-data/train_fr_en.csv\")[['excerpt_fr_en', 'target']]\n",
    "# df2 = df2.rename({'excerpt_fr_en': 'text'}, axis=1)\n",
    "# df = df.append(df2)"
   ]
  },
  {
   "cell_type": "code",
   "execution_count": 6,
   "id": "043e1730",
   "metadata": {
    "execution": {
     "iopub.execute_input": "2021-07-30T08:15:02.466987Z",
     "iopub.status.busy": "2021-07-30T08:15:02.465910Z",
     "iopub.status.idle": "2021-07-30T08:15:02.468043Z",
     "shell.execute_reply": "2021-07-30T08:15:02.469011Z",
     "shell.execute_reply.started": "2021-07-30T08:06:58.031947Z"
    },
    "papermill": {
     "duration": 0.060211,
     "end_time": "2021-07-30T08:15:02.469277",
     "exception": false,
     "start_time": "2021-07-30T08:15:02.409066",
     "status": "completed"
    },
    "tags": []
   },
   "outputs": [],
   "source": [
    "# df2 = pd.read_csv(\"../input/common-translated-data/train_es_en.csv\")[['excerpt_es_en', 'target']]\n",
    "# df2 = df2.rename({'excerpt_es_en': 'text'}, axis=1)\n",
    "# df = df.append(df2)"
   ]
  },
  {
   "cell_type": "code",
   "execution_count": 7,
   "id": "9d30f8b7",
   "metadata": {
    "execution": {
     "iopub.execute_input": "2021-07-30T08:15:02.540682Z",
     "iopub.status.busy": "2021-07-30T08:15:02.539755Z",
     "iopub.status.idle": "2021-07-30T08:15:02.543565Z",
     "shell.execute_reply": "2021-07-30T08:15:02.544242Z",
     "shell.execute_reply.started": "2021-07-30T08:06:58.045186Z"
    },
    "id": "dB2jE6am7Dpo",
    "outputId": "9d0e1ee5-8601-4b55-820d-bb12d58335dd",
    "papermill": {
     "duration": 0.035553,
     "end_time": "2021-07-30T08:15:02.544401",
     "exception": false,
     "start_time": "2021-07-30T08:15:02.508848",
     "status": "completed"
    },
    "tags": []
   },
   "outputs": [
    {
     "data": {
      "text/plain": [
       "(2834, 6)"
      ]
     },
     "execution_count": 7,
     "metadata": {},
     "output_type": "execute_result"
    }
   ],
   "source": [
    "df.shape"
   ]
  },
  {
   "cell_type": "code",
   "execution_count": 8,
   "id": "11754200",
   "metadata": {
    "execution": {
     "iopub.execute_input": "2021-07-30T08:15:02.601356Z",
     "iopub.status.busy": "2021-07-30T08:15:02.600370Z",
     "iopub.status.idle": "2021-07-30T08:15:02.604042Z",
     "shell.execute_reply": "2021-07-30T08:15:02.603322Z",
     "shell.execute_reply.started": "2021-07-30T08:06:58.060270Z"
    },
    "id": "VA_wGSLQLKCh",
    "outputId": "663656b8-7851-4e23-eb78-059bcf8cb2e4",
    "papermill": {
     "duration": 0.034208,
     "end_time": "2021-07-30T08:15:02.604177",
     "exception": false,
     "start_time": "2021-07-30T08:15:02.569969",
     "status": "completed"
    },
    "tags": []
   },
   "outputs": [],
   "source": [
    "# df.info()"
   ]
  },
  {
   "cell_type": "code",
   "execution_count": 9,
   "id": "931aee35",
   "metadata": {
    "execution": {
     "iopub.execute_input": "2021-07-30T08:15:02.662874Z",
     "iopub.status.busy": "2021-07-30T08:15:02.661835Z",
     "iopub.status.idle": "2021-07-30T08:15:02.665592Z",
     "shell.execute_reply": "2021-07-30T08:15:02.665025Z",
     "shell.execute_reply.started": "2021-07-30T08:06:58.074339Z"
    },
    "id": "U6LQWzY2i4MW",
    "outputId": "46ff3a98-a2d8-4b6a-d7e0-848285c42077",
    "papermill": {
     "duration": 0.035013,
     "end_time": "2021-07-30T08:15:02.665732",
     "exception": false,
     "start_time": "2021-07-30T08:15:02.630719",
     "status": "completed"
    },
    "tags": []
   },
   "outputs": [],
   "source": [
    "# df['text'].str.split(' ').apply(len).plot(kind='hist', title='length distribution');"
   ]
  },
  {
   "cell_type": "code",
   "execution_count": 10,
   "id": "8787fbae",
   "metadata": {
    "execution": {
     "iopub.execute_input": "2021-07-30T08:15:02.722796Z",
     "iopub.status.busy": "2021-07-30T08:15:02.722132Z",
     "iopub.status.idle": "2021-07-30T08:15:02.886393Z",
     "shell.execute_reply": "2021-07-30T08:15:02.885807Z",
     "shell.execute_reply.started": "2021-07-30T08:06:58.083163Z"
    },
    "id": "H3AfJSZ8NNLF",
    "papermill": {
     "duration": 0.194868,
     "end_time": "2021-07-30T08:15:02.886566",
     "exception": false,
     "start_time": "2021-07-30T08:15:02.691698",
     "status": "completed"
    },
    "tags": []
   },
   "outputs": [],
   "source": [
    "tokenizer = RobertaTokenizer.from_pretrained('../input/roberta-base')"
   ]
  },
  {
   "cell_type": "code",
   "execution_count": 11,
   "id": "576dc36c",
   "metadata": {
    "execution": {
     "iopub.execute_input": "2021-07-30T08:15:02.947568Z",
     "iopub.status.busy": "2021-07-30T08:15:02.946544Z",
     "iopub.status.idle": "2021-07-30T08:15:09.181815Z",
     "shell.execute_reply": "2021-07-30T08:15:09.182542Z",
     "shell.execute_reply.started": "2021-07-30T08:06:58.228927Z"
    },
    "id": "BUnE5CT9hbeZ",
    "papermill": {
     "duration": 6.268882,
     "end_time": "2021-07-30T08:15:09.182857",
     "exception": false,
     "start_time": "2021-07-30T08:15:02.913975",
     "status": "completed"
    },
    "tags": []
   },
   "outputs": [],
   "source": [
    "token_lens = []\n",
    "\n",
    "for txt in df.text:\n",
    "  tokens = tokenizer.encode(txt, max_length=512, truncation=True)\n",
    "  token_lens.append(len(tokens))"
   ]
  },
  {
   "cell_type": "code",
   "execution_count": 12,
   "id": "67c48dc1",
   "metadata": {
    "execution": {
     "iopub.execute_input": "2021-07-30T08:15:09.250351Z",
     "iopub.status.busy": "2021-07-30T08:15:09.249248Z",
     "iopub.status.idle": "2021-07-30T08:15:09.840425Z",
     "shell.execute_reply": "2021-07-30T08:15:09.841052Z",
     "shell.execute_reply.started": "2021-07-30T08:07:03.956039Z"
    },
    "id": "SzE1j4jxmUtd",
    "outputId": "289af463-e9eb-47c3-94e4-a5e4d8dd2113",
    "papermill": {
     "duration": 0.629177,
     "end_time": "2021-07-30T08:15:09.841291",
     "exception": false,
     "start_time": "2021-07-30T08:15:09.212114",
     "status": "completed"
    },
    "tags": []
   },
   "outputs": [
    {
     "name": "stderr",
     "output_type": "stream",
     "text": [
      "/opt/conda/lib/python3.7/site-packages/seaborn/distributions.py:2557: FutureWarning: `distplot` is a deprecated function and will be removed in a future version. Please adapt your code to use either `displot` (a figure-level function with similar flexibility) or `histplot` (an axes-level function for histograms).\n",
      "  warnings.warn(msg, FutureWarning)\n"
     ]
    },
    {
     "name": "stdout",
     "output_type": "stream",
     "text": [
      "Max Len: 322\n",
      "Avg Len: 218\n"
     ]
    },
    {
     "data": {
      "image/png": "[encoded data removed]",
      "text/plain": [
       "<Figure size 864x576 with 1 Axes>"
      ]
     },
     "metadata": {},
     "output_type": "display_data"
    }
   ],
   "source": [
    "sns.distplot(token_lens)\n",
    "plt.xlim([0, 512]);\n",
    "plt.xlabel('Token count')\n",
    "print(f\"Max Len: {max(token_lens)}\\nAvg Len: {math.ceil(sum(token_lens)/len(token_lens))}\")"
   ]
  },
  {
   "cell_type": "code",
   "execution_count": 13,
   "id": "dc3e0804",
   "metadata": {
    "execution": {
     "iopub.execute_input": "2021-07-30T08:15:09.903433Z",
     "iopub.status.busy": "2021-07-30T08:15:09.902356Z",
     "iopub.status.idle": "2021-07-30T08:15:09.905728Z",
     "shell.execute_reply": "2021-07-30T08:15:09.905159Z",
     "shell.execute_reply.started": "2021-07-30T08:07:04.618169Z"
    },
    "id": "t7xSmJtLuoxW",
    "papermill": {
     "duration": 0.036248,
     "end_time": "2021-07-30T08:15:09.905880",
     "exception": false,
     "start_time": "2021-07-30T08:15:09.869632",
     "status": "completed"
    },
    "tags": []
   },
   "outputs": [],
   "source": [
    "MAX_LEN = 256"
   ]
  },
  {
   "cell_type": "code",
   "execution_count": 14,
   "id": "e9ba2f13",
   "metadata": {
    "execution": {
     "iopub.execute_input": "2021-07-30T08:15:09.970535Z",
     "iopub.status.busy": "2021-07-30T08:15:09.969416Z",
     "iopub.status.idle": "2021-07-30T08:15:09.972854Z",
     "shell.execute_reply": "2021-07-30T08:15:09.972290Z",
     "shell.execute_reply.started": "2021-07-30T08:07:04.626664Z"
    },
    "papermill": {
     "duration": 0.03836,
     "end_time": "2021-07-30T08:15:09.973028",
     "exception": false,
     "start_time": "2021-07-30T08:15:09.934668",
     "status": "completed"
    },
    "tags": []
   },
   "outputs": [],
   "source": [
    "def rmse_score(y, X):\n",
    "    return np.sqrt(mean_squared_error(y, X))"
   ]
  },
  {
   "cell_type": "code",
   "execution_count": 15,
   "id": "60fcaf23",
   "metadata": {
    "execution": {
     "iopub.execute_input": "2021-07-30T08:15:10.038910Z",
     "iopub.status.busy": "2021-07-30T08:15:10.037795Z",
     "iopub.status.idle": "2021-07-30T08:15:10.041363Z",
     "shell.execute_reply": "2021-07-30T08:15:10.040695Z",
     "shell.execute_reply.started": "2021-07-30T08:07:04.641332Z"
    },
    "id": "E2BPgRJ7YBK0",
    "papermill": {
     "duration": 0.040594,
     "end_time": "2021-07-30T08:15:10.041515",
     "exception": false,
     "start_time": "2021-07-30T08:15:10.000921",
     "status": "completed"
    },
    "tags": []
   },
   "outputs": [],
   "source": [
    "class GPReviewDataset(Dataset):\n",
    "\n",
    "  def __init__(self, reviews, targets, tokenizer, max_len):\n",
    "    self.reviews = reviews\n",
    "    self.targets = targets\n",
    "    self.tokenizer = tokenizer\n",
    "    self.max_len = max_len\n",
    "  \n",
    "  def __len__(self):\n",
    "    return len(self.reviews)\n",
    "  \n",
    "  def __getitem__(self, item):\n",
    "    review = str(self.reviews[item])\n",
    "    target = self.targets[item]\n",
    "\n",
    "    encoding = self.tokenizer.encode_plus(\n",
    "      review,\n",
    "      add_special_tokens=True,\n",
    "      max_length=self.max_len,\n",
    "      return_token_type_ids=False,\n",
    "      padding='max_length',\n",
    "      truncation=True,\n",
    "      return_attention_mask=True,\n",
    "      return_tensors='pt',\n",
    "    )\n",
    "\n",
    "    return {\n",
    "      'review_text': review,\n",
    "      'input_ids': encoding['input_ids'].flatten(),\n",
    "      'attention_mask': encoding['attention_mask'].flatten(),\n",
    "      'targets': torch.tensor(target, dtype=torch.float)\n",
    "    }"
   ]
  },
  {
   "cell_type": "code",
   "execution_count": 16,
   "id": "42d7a6cf",
   "metadata": {
    "execution": {
     "iopub.execute_input": "2021-07-30T08:15:10.101584Z",
     "iopub.status.busy": "2021-07-30T08:15:10.100506Z",
     "iopub.status.idle": "2021-07-30T08:15:10.103973Z",
     "shell.execute_reply": "2021-07-30T08:15:10.103377Z",
     "shell.execute_reply.started": "2021-07-30T08:07:04.658203Z"
    },
    "id": "B-vWzoo81dvO",
    "outputId": "97944d22-0980-47ed-cba8-ec7ae54724e0",
    "papermill": {
     "duration": 0.035458,
     "end_time": "2021-07-30T08:15:10.104109",
     "exception": false,
     "start_time": "2021-07-30T08:15:10.068651",
     "status": "completed"
    },
    "tags": []
   },
   "outputs": [],
   "source": [
    "# df_train, df_val = train_test_split(df, test_size=0.01, random_state=RANDOM_SEED)\n",
    "# df_train.shape, df_val.shape, df_test.shape"
   ]
  },
  {
   "cell_type": "code",
   "execution_count": 17,
   "id": "c8fc8e6f",
   "metadata": {
    "execution": {
     "iopub.execute_input": "2021-07-30T08:15:10.167603Z",
     "iopub.status.busy": "2021-07-30T08:15:10.166548Z",
     "iopub.status.idle": "2021-07-30T08:15:10.170185Z",
     "shell.execute_reply": "2021-07-30T08:15:10.169508Z",
     "shell.execute_reply.started": "2021-07-30T08:07:04.669491Z"
    },
    "id": "KEGqcvkuOuTX",
    "papermill": {
     "duration": 0.038109,
     "end_time": "2021-07-30T08:15:10.170322",
     "exception": false,
     "start_time": "2021-07-30T08:15:10.132213",
     "status": "completed"
    },
    "tags": []
   },
   "outputs": [],
   "source": [
    "def create_data_loader(df, tokenizer, max_len, batch_size):\n",
    "  ds = GPReviewDataset(\n",
    "    reviews=df.text.to_numpy(),\n",
    "    targets=df[TARGET].to_numpy(),\n",
    "    tokenizer=tokenizer,\n",
    "    max_len=max_len\n",
    "  )\n",
    "\n",
    "  return DataLoader(\n",
    "    ds,\n",
    "    batch_size=batch_size,\n",
    "    num_workers=4\n",
    "  )"
   ]
  },
  {
   "cell_type": "code",
   "execution_count": 18,
   "id": "d039205f",
   "metadata": {
    "execution": {
     "iopub.execute_input": "2021-07-30T08:15:10.233947Z",
     "iopub.status.busy": "2021-07-30T08:15:10.231728Z",
     "iopub.status.idle": "2021-07-30T08:15:10.234792Z",
     "shell.execute_reply": "2021-07-30T08:15:10.235341Z",
     "shell.execute_reply.started": "2021-07-30T08:07:04.680827Z"
    },
    "id": "vODDxMKsPHqI",
    "papermill": {
     "duration": 0.037414,
     "end_time": "2021-07-30T08:15:10.235523",
     "exception": false,
     "start_time": "2021-07-30T08:15:10.198109",
     "status": "completed"
    },
    "tags": []
   },
   "outputs": [],
   "source": [
    "BATCH_SIZE = 256\n",
    "\n",
    "# train_data_loader = create_data_loader(df_train, tokenizer, MAX_LEN, BATCH_SIZE)\n",
    "# val_data_loader = create_data_loader(df_val, tokenizer, MAX_LEN, BATCH_SIZE)\n",
    "test_data_loader = create_data_loader(df_test, tokenizer, MAX_LEN, BATCH_SIZE)"
   ]
  },
  {
   "cell_type": "code",
   "execution_count": 19,
   "id": "bd93e6bb",
   "metadata": {
    "execution": {
     "iopub.execute_input": "2021-07-30T08:15:10.300328Z",
     "iopub.status.busy": "2021-07-30T08:15:10.299452Z",
     "iopub.status.idle": "2021-07-30T08:15:10.303866Z",
     "shell.execute_reply": "2021-07-30T08:15:10.303249Z",
     "shell.execute_reply.started": "2021-07-30T08:07:04.701683Z"
    },
    "id": "jbi0eus-tcM5",
    "papermill": {
     "duration": 0.040548,
     "end_time": "2021-07-30T08:15:10.304067",
     "exception": false,
     "start_time": "2021-07-30T08:15:10.263519",
     "status": "completed"
    },
    "tags": []
   },
   "outputs": [],
   "source": [
    "class AttentionHead(nn.Module):\n",
    "    def __init__(self, in_features, hidden_dim, num_targets):\n",
    "        super().__init__()\n",
    "        self.in_features = in_features\n",
    "        self.middle_features = hidden_dim\n",
    "\n",
    "        self.W = nn.Linear(in_features, hidden_dim)\n",
    "        self.V = nn.Linear(hidden_dim, 1)\n",
    "        self.out_features = hidden_dim\n",
    "\n",
    "    def forward(self, features):\n",
    "        att = torch.tanh(self.W(features))\n",
    "\n",
    "        score = self.V(att)\n",
    "\n",
    "        attention_weights = torch.softmax(score, dim=1)\n",
    "\n",
    "        context_vector = attention_weights * features\n",
    "        context_vector = torch.sum(context_vector, dim=1)\n",
    "\n",
    "        return context_vector"
   ]
  },
  {
   "cell_type": "code",
   "execution_count": 20,
   "id": "824e39fd",
   "metadata": {
    "execution": {
     "iopub.execute_input": "2021-07-30T08:15:10.374786Z",
     "iopub.status.busy": "2021-07-30T08:15:10.373217Z",
     "iopub.status.idle": "2021-07-30T08:15:10.377246Z",
     "shell.execute_reply": "2021-07-30T08:15:10.377904Z",
     "shell.execute_reply.started": "2021-07-30T08:07:04.727223Z"
    },
    "id": "m_mRflxPl32F",
    "papermill": {
     "duration": 0.046062,
     "end_time": "2021-07-30T08:15:10.378201",
     "exception": false,
     "start_time": "2021-07-30T08:15:10.332139",
     "status": "completed"
    },
    "tags": []
   },
   "outputs": [],
   "source": [
    "class Model(nn.Module):\n",
    "\n",
    "  def __init__(self):\n",
    "    super(Model, self).__init__()\n",
    "    self.roberta = RobertaModel.from_pretrained(PRE_TRAINED_MODEL_NAME)\n",
    "    self.head = AttentionHead(768, 768, 1)\n",
    "    self.dropout = nn.Dropout(0.1)\n",
    "    self.linear = nn.Linear(self.head.out_features, 1)\n",
    "  \n",
    "  def forward(self, input_ids, attention_mask):\n",
    "    roberta_out = self.roberta(input_ids=input_ids, attention_mask=attention_mask, output_hidden_states=True)\n",
    "    \n",
    "    last_hidden_state = roberta_out[0] \n",
    "    pooled_output = roberta_out[1]\n",
    "    hidden_state = roberta_out[2][0]\n",
    "    \n",
    "    output = self.head(last_hidden_state)\n",
    "#     output = self.dropout(output)\n",
    "#     output = self.linear(output)\n",
    "    return output"
   ]
  },
  {
   "cell_type": "code",
   "execution_count": 21,
   "id": "12a2e137",
   "metadata": {
    "execution": {
     "iopub.execute_input": "2021-07-30T08:15:10.456319Z",
     "iopub.status.busy": "2021-07-30T08:15:10.453151Z",
     "iopub.status.idle": "2021-07-30T08:15:10.457520Z",
     "shell.execute_reply": "2021-07-30T08:15:10.458242Z",
     "shell.execute_reply.started": "2021-07-30T08:07:04.749982Z"
    },
    "papermill": {
     "duration": 0.048594,
     "end_time": "2021-07-30T08:15:10.458554",
     "exception": false,
     "start_time": "2021-07-30T08:15:10.409960",
     "status": "completed"
    },
    "tags": []
   },
   "outputs": [],
   "source": [
    "def get_featuers(model, data_loader,  device=device):\n",
    "  model = model.eval()\n",
    "  preds = []\n",
    "  with torch.no_grad():\n",
    "    for d in data_loader:\n",
    "      input_ids = d[\"input_ids\"].to(device)\n",
    "      attention_mask = d[\"attention_mask\"].to(device)\n",
    "      targets = d[\"targets\"].to(device).float()\n",
    "\n",
    "      outputs = model(\n",
    "        input_ids=input_ids,\n",
    "        attention_mask=attention_mask\n",
    "      )\n",
    "      outputs = outputs.detach().cpu().numpy()\n",
    "      preds.extend(outputs)\n",
    "  return np.array(preds)"
   ]
  },
  {
   "cell_type": "code",
   "execution_count": 22,
   "id": "0aa39e3b",
   "metadata": {
    "execution": {
     "iopub.execute_input": "2021-07-30T08:15:10.537129Z",
     "iopub.status.busy": "2021-07-30T08:15:10.535487Z",
     "iopub.status.idle": "2021-07-30T08:15:10.539272Z",
     "shell.execute_reply": "2021-07-30T08:15:10.539927Z",
     "shell.execute_reply.started": "2021-07-30T08:07:04.771761Z"
    },
    "papermill": {
     "duration": 0.049127,
     "end_time": "2021-07-30T08:15:10.540288",
     "exception": false,
     "start_time": "2021-07-30T08:15:10.491161",
     "status": "completed"
    },
    "tags": []
   },
   "outputs": [],
   "source": [
    "def get_preds_svr(X, y, X_test, bins=None, nfolds=10, C=8, kernel='rbf'):\n",
    "    scores = list()\n",
    "    preds = np.zeros((X_test.shape[0]))\n",
    "    \n",
    "    kfold = StratifiedKFold(n_splits=nfolds, shuffle=True, random_state=RANDOM_SEED)\n",
    "    for k, (train_idx, valid_idx) in enumerate(kfold.split(X, bins)):\n",
    "        svr = SVR(C=C, kernel=kernel, gamma='auto')\n",
    "        X_train,y_train = X[train_idx], y[train_idx]\n",
    "        X_valid,y_valid = X[valid_idx], y[valid_idx]\n",
    "        \n",
    "        svr.fit(X_train, y_train)\n",
    "        prediction = svr.predict(X_valid)\n",
    "        score = rmse_score(prediction,y_valid)\n",
    "        print(f'Fold {k} , rmse score: {score}')\n",
    "        scores.append(score)\n",
    "        preds += svr.predict(X_test)\n",
    "       \n",
    "    mean_score = np.mean(scores)\n",
    "    print(\"mean rmse\",mean_score)\n",
    "    return np.array(preds)/nfolds, mean_score"
   ]
  },
  {
   "cell_type": "code",
   "execution_count": 23,
   "id": "641fdf69",
   "metadata": {
    "execution": {
     "iopub.execute_input": "2021-07-30T08:15:10.609019Z",
     "iopub.status.busy": "2021-07-30T08:15:10.607874Z",
     "iopub.status.idle": "2021-07-30T08:15:10.616928Z",
     "shell.execute_reply": "2021-07-30T08:15:10.616253Z",
     "shell.execute_reply.started": "2021-07-30T08:07:04.796470Z"
    },
    "papermill": {
     "duration": 0.047054,
     "end_time": "2021-07-30T08:15:10.617072",
     "exception": false,
     "start_time": "2021-07-30T08:15:10.570018",
     "status": "completed"
    },
    "tags": []
   },
   "outputs": [
    {
     "data": {
      "text/plain": [
       "(2834,)"
      ]
     },
     "execution_count": 23,
     "metadata": {},
     "output_type": "execute_result"
    }
   ],
   "source": [
    "num_bins = int(np.floor(1 + np.log2(len(df))))\n",
    "df.loc[:,'bins'] = pd.cut(df['target'],bins=num_bins,labels=False)\n",
    "\n",
    "target = df['target'].to_numpy()\n",
    "bins = df.bins.to_numpy()\n",
    "bins.shape"
   ]
  },
  {
   "cell_type": "code",
   "execution_count": 24,
   "id": "81acf3b1",
   "metadata": {
    "execution": {
     "iopub.execute_input": "2021-07-30T08:15:10.681587Z",
     "iopub.status.busy": "2021-07-30T08:15:10.680920Z",
     "iopub.status.idle": "2021-07-30T08:19:52.311531Z",
     "shell.execute_reply": "2021-07-30T08:19:52.312562Z",
     "shell.execute_reply.started": "2021-07-30T08:07:04.830372Z"
    },
    "id": "i0yQnuSFsjDp",
    "outputId": "59aa2377-66d9-4f96-acc0-b91da963008f",
    "papermill": {
     "duration": 281.668023,
     "end_time": "2021-07-30T08:19:52.312893",
     "exception": false,
     "start_time": "2021-07-30T08:15:10.644870",
     "status": "completed"
    },
    "tags": []
   },
   "outputs": [
    {
     "name": "stderr",
     "output_type": "stream",
     "text": [
      "Some weights of the model checkpoint at ../input/roberta-base were not used when initializing RobertaModel: ['lm_head.layer_norm.weight', 'lm_head.dense.bias', 'lm_head.decoder.weight', 'lm_head.layer_norm.bias', 'lm_head.bias', 'lm_head.dense.weight']\n",
      "- This IS expected if you are initializing RobertaModel from the checkpoint of a model trained on another task or with another architecture (e.g. initializing a BertForSequenceClassification model from a BertForPreTraining model).\n",
      "- This IS NOT expected if you are initializing RobertaModel from the checkpoint of a model that you expect to be exactly identical (initializing a BertForSequenceClassification model from a BertForSequenceClassification model).\n"
     ]
    },
    {
     "name": "stdout",
     "output_type": "stream",
     "text": [
      "Fold 0 , rmse score: 0.49448220890566325\n",
      "Fold 1 , rmse score: 0.4419003045781885\n",
      "Fold 2 , rmse score: 0.2935939521346294\n",
      "Fold 3 , rmse score: 0.2661541511826374\n",
      "Fold 4 , rmse score: 0.2650865970100744\n",
      "Fold 5 , rmse score: 0.2768245400988883\n",
      "Fold 6 , rmse score: 0.2638245142014809\n",
      "Fold 7 , rmse score: 0.2616547032558337\n",
      "Fold 8 , rmse score: 0.2766408868946108\n",
      "Fold 9 , rmse score: 0.279702294660336\n",
      "mean rmse 0.31198641529223425\n"
     ]
    },
    {
     "name": "stderr",
     "output_type": "stream",
     "text": [
      "Some weights of the model checkpoint at ../input/roberta-base were not used when initializing RobertaModel: ['lm_head.layer_norm.weight', 'lm_head.dense.bias', 'lm_head.decoder.weight', 'lm_head.layer_norm.bias', 'lm_head.bias', 'lm_head.dense.weight']\n",
      "- This IS expected if you are initializing RobertaModel from the checkpoint of a model trained on another task or with another architecture (e.g. initializing a BertForSequenceClassification model from a BertForPreTraining model).\n",
      "- This IS NOT expected if you are initializing RobertaModel from the checkpoint of a model that you expect to be exactly identical (initializing a BertForSequenceClassification model from a BertForSequenceClassification model).\n"
     ]
    },
    {
     "name": "stdout",
     "output_type": "stream",
     "text": [
      "Fold 0 , rmse score: 0.25298210906544\n",
      "Fold 1 , rmse score: 0.24037906750015833\n",
      "Fold 2 , rmse score: 0.512382650893887\n",
      "Fold 3 , rmse score: 0.4884292054681427\n",
      "Fold 4 , rmse score: 0.2514560574157386\n",
      "Fold 5 , rmse score: 0.227141152661907\n",
      "Fold 6 , rmse score: 0.2292568615427005\n",
      "Fold 7 , rmse score: 0.22940578301064024\n",
      "Fold 8 , rmse score: 0.22556969150941775\n",
      "Fold 9 , rmse score: 0.2565684180489916\n",
      "mean rmse 0.29135709971170237\n"
     ]
    },
    {
     "name": "stderr",
     "output_type": "stream",
     "text": [
      "Some weights of the model checkpoint at ../input/roberta-base were not used when initializing RobertaModel: ['lm_head.layer_norm.weight', 'lm_head.dense.bias', 'lm_head.decoder.weight', 'lm_head.layer_norm.bias', 'lm_head.bias', 'lm_head.dense.weight']\n",
      "- This IS expected if you are initializing RobertaModel from the checkpoint of a model trained on another task or with another architecture (e.g. initializing a BertForSequenceClassification model from a BertForPreTraining model).\n",
      "- This IS NOT expected if you are initializing RobertaModel from the checkpoint of a model that you expect to be exactly identical (initializing a BertForSequenceClassification model from a BertForSequenceClassification model).\n"
     ]
    },
    {
     "name": "stdout",
     "output_type": "stream",
     "text": [
      "Fold 0 , rmse score: 0.3066218599398731\n",
      "Fold 1 , rmse score: 0.2691128635579357\n",
      "Fold 2 , rmse score: 0.27714768919597826\n",
      "Fold 3 , rmse score: 0.28269655270727945\n",
      "Fold 4 , rmse score: 0.25922452957677333\n",
      "Fold 5 , rmse score: 0.30819712520884573\n",
      "Fold 6 , rmse score: 0.44268858483994\n",
      "Fold 7 , rmse score: 0.4497119060067375\n",
      "Fold 8 , rmse score: 0.29567159061071097\n",
      "Fold 9 , rmse score: 0.29813893162150085\n",
      "mean rmse 0.31892116332655746\n",
      "Overall mean rmse 0.30742155944349797\n"
     ]
    }
   ],
   "source": [
    "data_loader = create_data_loader(df, tokenizer, MAX_LEN, BATCH_SIZE)\n",
    "preds = np.zeros((df_test.shape[0]))\n",
    "mean_scores = []\n",
    "\n",
    "for i in [0, 1, 3]:\n",
    "    model = Model()\n",
    "    model.load_state_dict(torch.load(f'../input/clr-roberta/model{i}/model{i}.bin'))\n",
    "    model = model.to(device)\n",
    "    features_train = get_featuers(model, data_loader,  device=device)\n",
    "    features_test = get_featuers(model, test_data_loader,  device=device)\n",
    "    preds_out, mean_score = get_preds_svr(features_train, df[TARGET].to_numpy(), features_test, bins=bins)\n",
    "    preds += preds_out\n",
    "    mean_scores.append(mean_score)\n",
    "preds = preds / 3\n",
    "print(f\"Overall mean rmse {np.mean(mean_scores)}\")"
   ]
  },
  {
   "cell_type": "code",
   "execution_count": 25,
   "id": "be780e46",
   "metadata": {
    "execution": {
     "iopub.execute_input": "2021-07-30T08:19:52.399573Z",
     "iopub.status.busy": "2021-07-30T08:19:52.398873Z",
     "iopub.status.idle": "2021-07-30T08:19:52.404131Z",
     "shell.execute_reply": "2021-07-30T08:19:52.403569Z",
     "shell.execute_reply.started": "2021-07-30T08:11:25.108257Z"
    },
    "papermill": {
     "duration": 0.050831,
     "end_time": "2021-07-30T08:19:52.404265",
     "exception": false,
     "start_time": "2021-07-30T08:19:52.353434",
     "status": "completed"
    },
    "tags": []
   },
   "outputs": [],
   "source": [
    "# NUM_MODELS = 5\n",
    "# for i in range(NUM_MODELS):\n",
    "#     roberta_preds = np.zeros((NUM_MODELS, len(df_test)))\n",
    "#     model = Model()\n",
    "#     model.load_state_dict(torch.load(f'../input/clr-roberta/model{i}/model{i}.bin'))\n",
    "#     model = model.to(device)\n",
    "#     roberta_preds[i] = get_featuers(model, test_data_loader,  device=device).reshape(-1)\n",
    "# roberta_preds = roberta_preds.mean(axis=0)"
   ]
  },
  {
   "cell_type": "code",
   "execution_count": 26,
   "id": "ada97ae7",
   "metadata": {
    "execution": {
     "iopub.execute_input": "2021-07-30T08:19:52.489797Z",
     "iopub.status.busy": "2021-07-30T08:19:52.487646Z",
     "iopub.status.idle": "2021-07-30T08:19:52.490629Z",
     "shell.execute_reply": "2021-07-30T08:19:52.491131Z",
     "shell.execute_reply.started": "2021-07-30T08:11:25.116939Z"
    },
    "papermill": {
     "duration": 0.04691,
     "end_time": "2021-07-30T08:19:52.491305",
     "exception": false,
     "start_time": "2021-07-30T08:19:52.444395",
     "status": "completed"
    },
    "tags": []
   },
   "outputs": [],
   "source": [
    "# preds = preds * 5\n",
    "# roberta_preds = roberta_preds.reshape(-1)\n",
    "# new_preds = preds * 0.6 + roberta_preds * 0.4"
   ]
  },
  {
   "cell_type": "code",
   "execution_count": 27,
   "id": "3cec40eb",
   "metadata": {
    "execution": {
     "iopub.execute_input": "2021-07-30T08:19:52.581751Z",
     "iopub.status.busy": "2021-07-30T08:19:52.580900Z",
     "iopub.status.idle": "2021-07-30T08:19:52.596183Z",
     "shell.execute_reply": "2021-07-30T08:19:52.596839Z",
     "shell.execute_reply.started": "2021-07-30T08:11:25.131198Z"
    },
    "papermill": {
     "duration": 0.06606,
     "end_time": "2021-07-30T08:19:52.597017",
     "exception": false,
     "start_time": "2021-07-30T08:19:52.530957",
     "status": "completed"
    },
    "tags": []
   },
   "outputs": [
    {
     "data": {
      "text/html": [
       "<div>\n",
       "<style scoped>\n",
       "    .dataframe tbody tr th:only-of-type {\n",
       "        vertical-align: middle;\n",
       "    }\n",
       "\n",
       "    .dataframe tbody tr th {\n",
       "        vertical-align: top;\n",
       "    }\n",
       "\n",
       "    .dataframe thead th {\n",
       "        text-align: right;\n",
       "    }\n",
       "</style>\n",
       "<table border=\"1\" class=\"dataframe\">\n",
       "  <thead>\n",
       "    <tr style=\"text-align: right;\">\n",
       "      <th></th>\n",
       "      <th>id</th>\n",
       "      <th>target</th>\n",
       "    </tr>\n",
       "  </thead>\n",
       "  <tbody>\n",
       "    <tr>\n",
       "      <th>0</th>\n",
       "      <td>c0f722661</td>\n",
       "      <td>-0.376941</td>\n",
       "    </tr>\n",
       "    <tr>\n",
       "      <th>1</th>\n",
       "      <td>f0953f0a5</td>\n",
       "      <td>-0.681850</td>\n",
       "    </tr>\n",
       "    <tr>\n",
       "      <th>2</th>\n",
       "      <td>0df072751</td>\n",
       "      <td>-0.431051</td>\n",
       "    </tr>\n",
       "    <tr>\n",
       "      <th>3</th>\n",
       "      <td>04caf4e0c</td>\n",
       "      <td>-2.446665</td>\n",
       "    </tr>\n",
       "    <tr>\n",
       "      <th>4</th>\n",
       "      <td>0e63f8bea</td>\n",
       "      <td>-1.767920</td>\n",
       "    </tr>\n",
       "    <tr>\n",
       "      <th>5</th>\n",
       "      <td>12537fe78</td>\n",
       "      <td>-1.316993</td>\n",
       "    </tr>\n",
       "    <tr>\n",
       "      <th>6</th>\n",
       "      <td>965e592c0</td>\n",
       "      <td>0.290781</td>\n",
       "    </tr>\n",
       "  </tbody>\n",
       "</table>\n",
       "</div>"
      ],
      "text/plain": [
       "          id    target\n",
       "0  c0f722661 -0.376941\n",
       "1  f0953f0a5 -0.681850\n",
       "2  0df072751 -0.431051\n",
       "3  04caf4e0c -2.446665\n",
       "4  0e63f8bea -1.767920\n",
       "5  12537fe78 -1.316993\n",
       "6  965e592c0  0.290781"
      ]
     },
     "execution_count": 27,
     "metadata": {},
     "output_type": "execute_result"
    }
   ],
   "source": [
    "submission = pd.DataFrame()\n",
    "submission['id'] = df_test['id']\n",
    "submission[TARGET] = preds.astype(float)\n",
    "submission[TARGET] = round(submission[TARGET], 6)\n",
    "submission.to_csv(\"submission.csv\", index=False)\n",
    "submission"
   ]
  }
 ],
 "metadata": {
  "kernelspec": {
   "display_name": "Python 3",
   "language": "python",
   "name": "python3"
  },
  "language_info": {
   "codemirror_mode": {
    "name": "ipython",
    "version": 3
   },
   "file_extension": ".py",
   "mimetype": "text/x-python",
   "name": "python",
   "nbconvert_exporter": "python",
   "pygments_lexer": "ipython3",
   "version": "3.7.10"
  },
  "papermill": {
   "default_parameters": {},
   "duration": 314.104364,
   "end_time": "2021-07-30T08:19:56.015774",
   "environment_variables": {},
   "exception": null,
   "input_path": "__notebook__.ipynb",
   "output_path": "__notebook__.ipynb",
   "parameters": {},
   "start_time": "2021-07-30T08:14:41.911410",
   "version": "2.3.3"
  }
 },
 "nbformat": 4,
 "nbformat_minor": 5
}
